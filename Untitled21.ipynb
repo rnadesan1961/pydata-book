{
  "nbformat": 4,
  "nbformat_minor": 0,
  "metadata": {
    "colab": {
      "name": "Untitled21.ipynb",
      "provenance": [],
      "authorship_tag": "ABX9TyOcS6r9CI6EMCzLq9MNHutR",
      "include_colab_link": true
    },
    "kernelspec": {
      "name": "python3",
      "display_name": "Python 3"
    }
  },
  "cells": [
    {
      "cell_type": "markdown",
      "metadata": {
        "id": "view-in-github",
        "colab_type": "text"
      },
      "source": [
        "<a href=\"https://colab.research.google.com/github/rnadesan1961/pydata-book/blob/1st-edition/Untitled21.ipynb\" target=\"_parent\"><img src=\"https://colab.research.google.com/assets/colab-badge.svg\" alt=\"Open In Colab\"/></a>"
      ]
    },
    {
      "cell_type": "code",
      "metadata": {
        "id": "LeI8Ldl9j0dS"
      },
      "source": [
        "# import modules pandas and numpy\r\n",
        "import pandas as pd\r\n",
        "import numpy as np\r\n",
        "# json file \r\n",
        "import json \r\n"
      ],
      "execution_count": 1,
      "outputs": []
    },
    {
      "cell_type": "code",
      "metadata": {
        "colab": {
          "base_uri": "https://localhost:8080/"
        },
        "id": "IU90jsDyj6qh",
        "outputId": "d02446ae-7748-4df4-bc58-49d3535a10c1"
      },
      "source": [
        "# mount the drive for loading the data file \r\n",
        "from google.colab import drive\r\n",
        "drive.mount('/content/drive')"
      ],
      "execution_count": 2,
      "outputs": [
        {
          "output_type": "stream",
          "text": [
            "Mounted at /content/drive\n"
          ],
          "name": "stdout"
        }
      ]
    },
    {
      "cell_type": "code",
      "metadata": {
        "id": "7FvVibW5kE-b"
      },
      "source": [
        "# import json\r\n",
        "# from google.colab import files\r\n",
        "# # loading to Panda dataframe \r\n",
        "# df2= pd.read_json('/content/drive/Shareddrives/YMCA/TravelersCodeChallenge/json_test.json')\r\n",
        "# df2.head(10)"
      ],
      "execution_count": 21,
      "outputs": []
    },
    {
      "cell_type": "code",
      "metadata": {
        "colab": {
          "base_uri": "https://localhost:8080/",
          "height": 141
        },
        "id": "aATz-WNYtxy6",
        "outputId": "815b06c2-ca9d-4e2d-f899-4b8b8ec43da9"
      },
      "source": [
        "df1= pd.read_json('/content/drive/Shareddrives/YMCA/TravelersCodeChallenge/TravelersCodingChallenge.json',lines=True)\r\n",
        "df1.to_json('/content/drive/Shareddrives/YMCA/TravelersCodeChallenge/Travelers.json')\r\n",
        "df1.head(10)"
      ],
      "execution_count": 22,
      "outputs": [
        {
          "output_type": "execute_result",
          "data": {
            "text/html": [
              "<div>\n",
              "<style scoped>\n",
              "    .dataframe tbody tr th:only-of-type {\n",
              "        vertical-align: middle;\n",
              "    }\n",
              "\n",
              "    .dataframe tbody tr th {\n",
              "        vertical-align: top;\n",
              "    }\n",
              "\n",
              "    .dataframe thead th {\n",
              "        text-align: right;\n",
              "    }\n",
              "</style>\n",
              "<table border=\"1\" class=\"dataframe\">\n",
              "  <thead>\n",
              "    <tr style=\"text-align: right;\">\n",
              "      <th></th>\n",
              "      <th>guid</th>\n",
              "      <th>name</th>\n",
              "      <th>rating</th>\n",
              "      <th>industry</th>\n",
              "      <th>is_service_provider</th>\n",
              "      <th>rating_type</th>\n",
              "      <th>is_subscribed</th>\n",
              "      <th>children</th>\n",
              "      <th>EventTS</th>\n",
              "      <th>EventTypeCd</th>\n",
              "      <th>FormCd</th>\n",
              "    </tr>\n",
              "  </thead>\n",
              "  <tbody>\n",
              "    <tr>\n",
              "      <th>0</th>\n",
              "      <td>69012de7-10d4-4b13-940c-872e8cc4a0f0</td>\n",
              "      <td>KYOCERA Group</td>\n",
              "      <td>490</td>\n",
              "      <td>Manufacturing</td>\n",
              "      <td>False</td>\n",
              "      <td>CURATED</td>\n",
              "      <td>False</td>\n",
              "      <td>[{'guid': '28837c60-21e8-49d2-aa29-6ab1a69af52...</td>\n",
              "      <td>2018-10-15T18:37:27.712Z</td>\n",
              "      <td>BITSIGHT</td>\n",
              "      <td>Companies_GUID_Company-tree</td>\n",
              "    </tr>\n",
              "    <tr>\n",
              "      <th>1</th>\n",
              "      <td>5ec089ca-beb6-42e4-9184-216a7fd95612</td>\n",
              "      <td>Huntington Bancshares, Inc.</td>\n",
              "      <td>700</td>\n",
              "      <td>Finance</td>\n",
              "      <td>False</td>\n",
              "      <td>CURATED</td>\n",
              "      <td>True</td>\n",
              "      <td>[]</td>\n",
              "      <td>2018-10-15T18:36:26.690Z</td>\n",
              "      <td>BITSIGHT</td>\n",
              "      <td>Companies_GUID_Company-tree</td>\n",
              "    </tr>\n",
              "  </tbody>\n",
              "</table>\n",
              "</div>"
            ],
            "text/plain": [
              "                                   guid  ...                       FormCd\n",
              "0  69012de7-10d4-4b13-940c-872e8cc4a0f0  ...  Companies_GUID_Company-tree\n",
              "1  5ec089ca-beb6-42e4-9184-216a7fd95612  ...  Companies_GUID_Company-tree\n",
              "\n",
              "[2 rows x 11 columns]"
            ]
          },
          "metadata": {
            "tags": []
          },
          "execution_count": 22
        }
      ]
    },
    {
      "cell_type": "code",
      "metadata": {
        "id": "2IOGZZltuqNM"
      },
      "source": [
        "# load data using Python JSON module\r\n",
        "with open('/content/drive/Shareddrives/YMCA/TravelersCodeChallenge/Travelers.json','r') as file:\r\n",
        "    data = json.loads(file.read())\r\n",
        "     "
      ],
      "execution_count": 23,
      "outputs": []
    },
    {
      "cell_type": "code",
      "metadata": {
        "id": "JGvKyDhSyujk"
      },
      "source": [
        "# Normalizing data\r\n",
        "multiple_level_data = pd.json_normalize(data, record_path =['children'], meta =['json_normalize','name','family_min_samples_percentage'], meta_prefix='config_params_', record_prefix='dbscan_')"
      ],
      "execution_count": null,
      "outputs": []
    }
  ]
}